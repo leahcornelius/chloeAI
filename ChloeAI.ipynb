{
  "nbformat": 4,
  "nbformat_minor": 0,
  "metadata": {
    "colab": {
      "name": "ChloeAI.ipynb",
      "provenance": []
    },
    "kernelspec": {
      "name": "python3",
      "display_name": "Python 3"
    },
    "accelerator": "GPU"
  },
  "cells": [
    {
      "cell_type": "markdown",
      "metadata": {
        "id": "b_zR1dAsUWg-",
        "colab_type": "text"
      },
      "source": [
        "Download chloe from github"
      ]
    },
    {
      "cell_type": "code",
      "metadata": {
        "id": "rUsykrC3UdhW",
        "colab_type": "code",
        "colab": {}
      },
      "source": [
        "!git pull https://github.com/leocornelius/chloeAI"
      ],
      "execution_count": null,
      "outputs": []
    },
    {
      "cell_type": "markdown",
      "metadata": {
        "id": "NpatEZt6Uy6g",
        "colab_type": "text"
      },
      "source": [
        "Copy the files into the root dirrectory"
      ]
    },
    {
      "cell_type": "code",
      "metadata": {
        "id": "mjvt2nJfZntK",
        "colab_type": "code",
        "colab": {}
      },
      "source": [
        "!cp -r chloeAI/src/. . & rm -rf chloeAI"
      ],
      "execution_count": null,
      "outputs": []
    },
    {
      "cell_type": "markdown",
      "metadata": {
        "id": "iyPkniRUVaL_",
        "colab_type": "text"
      },
      "source": [
        "Pip install the needed libs"
      ]
    },
    {
      "cell_type": "code",
      "metadata": {
        "id": "COrXNsOpVkvs",
        "colab_type": "code",
        "colab": {}
      },
      "source": [
        "!pip install -r requirements.txt"
      ],
      "execution_count": null,
      "outputs": []
    },
    {
      "cell_type": "markdown",
      "metadata": {
        "id": "fQ4uhfyVVKY3",
        "colab_type": "text"
      },
      "source": [
        "Edit the config"
      ]
    },
    {
      "cell_type": "code",
      "metadata": {
        "id": "VX3-U-YMVF17",
        "colab_type": "code",
        "colab": {}
      },
      "source": [
        "import configparser\n",
        "\n",
        "config = configparser.ConfigParser(allow_no_value=True)\n",
        "config.read(f'chatbot.cfg')\n",
        "config.set('chatbot', 'telegram_token', '*YOUR_TOKEN_HERE*')\n",
        "config.set('chatbot', 'giphy_token', '*YOUR_TOKEN_HERE*')\n",
        "\n",
        "with open(f'my_chatbot.cfg', 'w') as f:\n",
        "    config.write(f)"
      ],
      "execution_count": null,
      "outputs": []
    },
    {
      "cell_type": "markdown",
      "metadata": {
        "id": "P32QtudVWCaO",
        "colab_type": "text"
      },
      "source": [
        "Check the GPU details. If you are having issues running chloe ensure this has not changed since last time  (see https://research.google.com/colaboratory/faq.html as to why it may have done)"
      ]
    },
    {
      "cell_type": "code",
      "metadata": {
        "id": "2u6x7GraWcUT",
        "colab_type": "code",
        "colab": {
          "base_uri": "https://localhost:8080/",
          "height": 364
        },
        "outputId": "d074dfb0-0361-48a1-db4a-bdb94b23aab1"
      },
      "source": [
        "!nvidia-smi"
      ],
      "execution_count": 1,
      "outputs": [
        {
          "output_type": "stream",
          "text": [
            "Tue Sep  8 15:36:00 2020       \n",
            "+-----------------------------------------------------------------------------+\n",
            "| NVIDIA-SMI 450.66       Driver Version: 418.67       CUDA Version: 10.1     |\n",
            "|-------------------------------+----------------------+----------------------+\n",
            "| GPU  Name        Persistence-M| Bus-Id        Disp.A | Volatile Uncorr. ECC |\n",
            "| Fan  Temp  Perf  Pwr:Usage/Cap|         Memory-Usage | GPU-Util  Compute M. |\n",
            "|                               |                      |               MIG M. |\n",
            "|===============================+======================+======================|\n",
            "|   0  Tesla T4            Off  | 00000000:00:04.0 Off |                    0 |\n",
            "| N/A   56C    P8    10W /  70W |      0MiB / 15079MiB |      0%      Default |\n",
            "|                               |                      |                 ERR! |\n",
            "+-------------------------------+----------------------+----------------------+\n",
            "                                                                               \n",
            "+-----------------------------------------------------------------------------+\n",
            "| Processes:                                                                  |\n",
            "|  GPU   GI   CI        PID   Type   Process name                  GPU Memory |\n",
            "|        ID   ID                                                   Usage      |\n",
            "|=============================================================================|\n",
            "|  No running processes found                                                 |\n",
            "+-----------------------------------------------------------------------------+\n"
          ],
          "name": "stdout"
        }
      ]
    },
    {
      "cell_type": "markdown",
      "metadata": {
        "id": "bVmoj10ZXErI",
        "colab_type": "text"
      },
      "source": [
        "Now we are going to download the model"
      ]
    },
    {
      "cell_type": "code",
      "metadata": {
        "id": "EXF-D8K-XLAY",
        "colab_type": "code",
        "colab": {}
      },
      "source": [
        "python3 model.py"
      ],
      "execution_count": null,
      "outputs": []
    }
  ]
}